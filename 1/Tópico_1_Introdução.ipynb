{
  "nbformat": 4,
  "nbformat_minor": 0,
  "metadata": {
    "colab": {
      "provenance": []
    },
    "kernelspec": {
      "name": "python3",
      "display_name": "Python 3"
    },
    "language_info": {
      "name": "python"
    }
  },
  "cells": [
    {
      "cell_type": "markdown",
      "source": [
        "No primeiro projeto, vamos usar um exemplo ilustrativo: a ideia é diferenciar dois animais com características diferentes, um porco e um cachorro.\n",
        "\n",
        "Por se tratar de um modelo binário, podemos atribuir um número a cada uma dessas classes, como por exemplo 0 e 1.\n",
        "\n",
        "Aprendizado supervisionado -> passaremos um conjunto de dados e supervisionaremos seu aprendizado para que os animais sejam classificados de forma correta."
      ],
      "metadata": {
        "id": "wnuXovVBW3u8"
      }
    },
    {
      "cell_type": "markdown",
      "source": [
        "**Características avaliadas:**\n",
        "\n",
        "\n",
        "*   Pelo longo ou curto?\n",
        "*   Pernas longas ou curtas?\n",
        "*   O animal emite o som \"au-au\" ou não?\n",
        "\n"
      ],
      "metadata": {
        "id": "ijzUirhEY4JC"
      }
    },
    {
      "cell_type": "markdown",
      "source": [
        "**Algoritmos de Classificação**\n",
        "\n",
        "São algoritmos utilizadas para classificar itens ou prever comportamentos de usuário no momento de comprar um produto, por exemplo. Para isso teremos:\n",
        "\n",
        "\n",
        "1.   Features\n",
        "2.   Itens\n",
        "3.   Treino do estimador\n",
        "4.   Testes\n",
        "5.   Taxa de Acerto\n",
        "6.   Otimização\n",
        "7.   Previsão\n",
        "\n"
      ],
      "metadata": {
        "id": "6A-PlZOcZVfd"
      }
    },
    {
      "cell_type": "markdown",
      "source": [
        "Sessão de imports"
      ],
      "metadata": {
        "id": "rf7vuTorRKCW"
      }
    },
    {
      "cell_type": "code",
      "source": [
        "from sklearn.svm import LinearSVC\n",
        "from sklearn.metrics import accuracy_score"
      ],
      "metadata": {
        "id": "W3IqQUSXRJlm"
      },
      "execution_count": 13,
      "outputs": []
    },
    {
      "cell_type": "code",
      "source": [
        "# features (1 sim, 0 não)\n",
        "# pelo longo?\n",
        "# perna curta?\n",
        "# faz auau?\n",
        "porco1 = [0, 1, 0]\n",
        "porco2 = [0, 1, 1]\n",
        "porco3 = [1, 1, 0]\n",
        "\n",
        "cachorro1 = [0, 1, 1]\n",
        "cachorro2 = [1, 0, 1]\n",
        "cachorro3 = [1, 1, 1]"
      ],
      "metadata": {
        "id": "ibQRoSlYZH9o"
      },
      "execution_count": 1,
      "outputs": []
    },
    {
      "cell_type": "code",
      "source": [
        "# 1 => porco, 0 => cachorro\n",
        "treino_x = [porco1, porco2, porco3, cachorro1, cachorro2, cachorro3]\n",
        "treino_y = [1,1,1,0,0,0]"
      ],
      "metadata": {
        "id": "Wfc56BYIQaBM"
      },
      "execution_count": 2,
      "outputs": []
    },
    {
      "cell_type": "markdown",
      "source": [
        "LinearSVC é uma classe que possibilita a criação de um modello. Instanciamos o estimador (recebendo o nome `model`) e solicitamos que ele analise e aprenda com os dados que disponibilizamos; o modelo tentará adaptar sua lógica de pensamento com base nos dados. O método utilizado para esta ação chama-se `fit()`, que receberá como parâmetro `dados`, mas como estamos realizando um **aprendizado supervisionado**, demos também declarar quais as classes."
      ],
      "metadata": {
        "id": "pm5GfvxgQfeE"
      }
    },
    {
      "cell_type": "code",
      "source": [
        "model = LinearSVC()\n",
        "model.fit(treino_x,treino_y)"
      ],
      "metadata": {
        "colab": {
          "base_uri": "https://localhost:8080/",
          "height": 75
        },
        "id": "M8EcD1wqQbHj",
        "outputId": "5062cd80-cc7c-457d-8881-87ab174adfb0"
      },
      "execution_count": 4,
      "outputs": [
        {
          "output_type": "execute_result",
          "data": {
            "text/plain": [
              "LinearSVC()"
            ],
            "text/html": [
              "<style>#sk-container-id-1 {color: black;background-color: white;}#sk-container-id-1 pre{padding: 0;}#sk-container-id-1 div.sk-toggleable {background-color: white;}#sk-container-id-1 label.sk-toggleable__label {cursor: pointer;display: block;width: 100%;margin-bottom: 0;padding: 0.3em;box-sizing: border-box;text-align: center;}#sk-container-id-1 label.sk-toggleable__label-arrow:before {content: \"▸\";float: left;margin-right: 0.25em;color: #696969;}#sk-container-id-1 label.sk-toggleable__label-arrow:hover:before {color: black;}#sk-container-id-1 div.sk-estimator:hover label.sk-toggleable__label-arrow:before {color: black;}#sk-container-id-1 div.sk-toggleable__content {max-height: 0;max-width: 0;overflow: hidden;text-align: left;background-color: #f0f8ff;}#sk-container-id-1 div.sk-toggleable__content pre {margin: 0.2em;color: black;border-radius: 0.25em;background-color: #f0f8ff;}#sk-container-id-1 input.sk-toggleable__control:checked~div.sk-toggleable__content {max-height: 200px;max-width: 100%;overflow: auto;}#sk-container-id-1 input.sk-toggleable__control:checked~label.sk-toggleable__label-arrow:before {content: \"▾\";}#sk-container-id-1 div.sk-estimator input.sk-toggleable__control:checked~label.sk-toggleable__label {background-color: #d4ebff;}#sk-container-id-1 div.sk-label input.sk-toggleable__control:checked~label.sk-toggleable__label {background-color: #d4ebff;}#sk-container-id-1 input.sk-hidden--visually {border: 0;clip: rect(1px 1px 1px 1px);clip: rect(1px, 1px, 1px, 1px);height: 1px;margin: -1px;overflow: hidden;padding: 0;position: absolute;width: 1px;}#sk-container-id-1 div.sk-estimator {font-family: monospace;background-color: #f0f8ff;border: 1px dotted black;border-radius: 0.25em;box-sizing: border-box;margin-bottom: 0.5em;}#sk-container-id-1 div.sk-estimator:hover {background-color: #d4ebff;}#sk-container-id-1 div.sk-parallel-item::after {content: \"\";width: 100%;border-bottom: 1px solid gray;flex-grow: 1;}#sk-container-id-1 div.sk-label:hover label.sk-toggleable__label {background-color: #d4ebff;}#sk-container-id-1 div.sk-serial::before {content: \"\";position: absolute;border-left: 1px solid gray;box-sizing: border-box;top: 0;bottom: 0;left: 50%;z-index: 0;}#sk-container-id-1 div.sk-serial {display: flex;flex-direction: column;align-items: center;background-color: white;padding-right: 0.2em;padding-left: 0.2em;position: relative;}#sk-container-id-1 div.sk-item {position: relative;z-index: 1;}#sk-container-id-1 div.sk-parallel {display: flex;align-items: stretch;justify-content: center;background-color: white;position: relative;}#sk-container-id-1 div.sk-item::before, #sk-container-id-1 div.sk-parallel-item::before {content: \"\";position: absolute;border-left: 1px solid gray;box-sizing: border-box;top: 0;bottom: 0;left: 50%;z-index: -1;}#sk-container-id-1 div.sk-parallel-item {display: flex;flex-direction: column;z-index: 1;position: relative;background-color: white;}#sk-container-id-1 div.sk-parallel-item:first-child::after {align-self: flex-end;width: 50%;}#sk-container-id-1 div.sk-parallel-item:last-child::after {align-self: flex-start;width: 50%;}#sk-container-id-1 div.sk-parallel-item:only-child::after {width: 0;}#sk-container-id-1 div.sk-dashed-wrapped {border: 1px dashed gray;margin: 0 0.4em 0.5em 0.4em;box-sizing: border-box;padding-bottom: 0.4em;background-color: white;}#sk-container-id-1 div.sk-label label {font-family: monospace;font-weight: bold;display: inline-block;line-height: 1.2em;}#sk-container-id-1 div.sk-label-container {text-align: center;}#sk-container-id-1 div.sk-container {/* jupyter's `normalize.less` sets `[hidden] { display: none; }` but bootstrap.min.css set `[hidden] { display: none !important; }` so we also need the `!important` here to be able to override the default hidden behavior on the sphinx rendered scikit-learn.org. See: https://github.com/scikit-learn/scikit-learn/issues/21755 */display: inline-block !important;position: relative;}#sk-container-id-1 div.sk-text-repr-fallback {display: none;}</style><div id=\"sk-container-id-1\" class=\"sk-top-container\"><div class=\"sk-text-repr-fallback\"><pre>LinearSVC()</pre><b>In a Jupyter environment, please rerun this cell to show the HTML representation or trust the notebook. <br />On GitHub, the HTML representation is unable to render, please try loading this page with nbviewer.org.</b></div><div class=\"sk-container\" hidden><div class=\"sk-item\"><div class=\"sk-estimator sk-toggleable\"><input class=\"sk-toggleable__control sk-hidden--visually\" id=\"sk-estimator-id-1\" type=\"checkbox\" checked><label for=\"sk-estimator-id-1\" class=\"sk-toggleable__label sk-toggleable__label-arrow\">LinearSVC</label><div class=\"sk-toggleable__content\"><pre>LinearSVC()</pre></div></div></div></div></div>"
            ]
          },
          "metadata": {},
          "execution_count": 4
        }
      ]
    },
    {
      "cell_type": "markdown",
      "source": [
        "Descobrir a opinião do modelo a respeito da categorização de um animal misterioso.\n",
        "\n",
        "O código deu erro ao colocar `model.predict(animal_misterioso)`, indicando que é esperado um array de duas dimensões quando só se tinha passado uma. O `predict()` espera um array com vários itens - sendo que cada um desses itens vai ter sua própria lista de features."
      ],
      "metadata": {
        "id": "tigVFKiFRyeH"
      }
    },
    {
      "cell_type": "code",
      "source": [
        "animal_misterioso = [1,1,1]\n",
        "model.predict([animal_misterioso])"
      ],
      "metadata": {
        "colab": {
          "base_uri": "https://localhost:8080/"
        },
        "id": "TRWY-5mgRYyz",
        "outputId": "992d8de8-21b9-4835-e0e9-3f73a0be7be4"
      },
      "execution_count": 6,
      "outputs": [
        {
          "output_type": "execute_result",
          "data": {
            "text/plain": [
              "array([0])"
            ]
          },
          "metadata": {},
          "execution_count": 6
        }
      ]
    },
    {
      "cell_type": "code",
      "source": [
        "misterio1 = [1,1,1]\n",
        "misterio2 = [1,1,0]\n",
        "misterio3 = [0,1,1]\n",
        "\n",
        "teste_x = [misterio1, misterio2, misterio3]\n",
        "model.predict(teste_x)"
      ],
      "metadata": {
        "colab": {
          "base_uri": "https://localhost:8080/"
        },
        "id": "kVd4kTBjRlyN",
        "outputId": "11d5e715-37eb-4abe-e2a5-78668eab9174"
      },
      "execution_count": 15,
      "outputs": [
        {
          "output_type": "execute_result",
          "data": {
            "text/plain": [
              "array([0, 1, 0])"
            ]
          },
          "metadata": {},
          "execution_count": 15
        }
      ]
    },
    {
      "cell_type": "markdown",
      "source": [
        "*****"
      ],
      "metadata": {
        "id": "QbbfIeG5UB4F"
      }
    },
    {
      "cell_type": "markdown",
      "source": [
        "Como podemos medir a taxa de acerto de um modelo?\n",
        "\n",
        "A taxa de acerto é uma das medidas mais básicas de um modelo e serve para analisarmos quantas classificações o nosso algoritmo foi capaz de acertar dentro de um determinado conjunto de dados.\n",
        "\n",
        "Vamos criar a variável `previsoes` para armazenar os resultados das previsões do modelo e criar um `teste_classes` que armazenará os valores reais."
      ],
      "metadata": {
        "id": "eN4QAnwfSd34"
      }
    },
    {
      "cell_type": "markdown",
      "source": [
        "**Calculando a taxa de acerto utilizando código manuscrito**"
      ],
      "metadata": {
        "id": "dyNU-9rgTswQ"
      }
    },
    {
      "cell_type": "code",
      "source": [
        "misterio1 = [1,1,1]\n",
        "misterio2 = [1,1,0]\n",
        "misterio3 = [0,1,1]\n",
        "\n",
        "teste_x = [misterio1, misterio2, misterio3]\n",
        "teste_y = model.predict(teste_x)\n",
        "\n",
        "testes_y = [0, 1, 1]"
      ],
      "metadata": {
        "id": "_GpZPkJUSVz4"
      },
      "execution_count": 21,
      "outputs": []
    },
    {
      "cell_type": "code",
      "source": [
        "teste_y == testes_y"
      ],
      "metadata": {
        "colab": {
          "base_uri": "https://localhost:8080/"
        },
        "id": "Y_9G97l4THhu",
        "outputId": "463a48a4-7324-4201-d597-8da6e399459c"
      },
      "execution_count": 22,
      "outputs": [
        {
          "output_type": "execute_result",
          "data": {
            "text/plain": [
              "array([ True,  True, False])"
            ]
          },
          "metadata": {},
          "execution_count": 22
        }
      ]
    },
    {
      "cell_type": "code",
      "source": [
        "corretos = (teste_y == testes_y).sum()\n",
        "total = len(teste_x)\n",
        "taxa_de_acerto = corretos/total\n",
        "print(\"Taxa de acerto %.2f \" % (taxa_de_acerto * 100))"
      ],
      "metadata": {
        "colab": {
          "base_uri": "https://localhost:8080/"
        },
        "id": "7X-K9bxyTPGs",
        "outputId": "25944611-3549-4eb4-f689-13c73b1bc093"
      },
      "execution_count": 23,
      "outputs": [
        {
          "output_type": "stream",
          "name": "stdout",
          "text": [
            "Taxa de acerto 66.67 \n"
          ]
        }
      ]
    },
    {
      "cell_type": "markdown",
      "source": [
        "**Calculando a taxa de acerto (acurácia) utlizando biblioteca Sklearn**"
      ],
      "metadata": {
        "id": "QZJ6YDeKT0Vm"
      }
    },
    {
      "cell_type": "code",
      "source": [
        "taxa_de_acerto = accuracy_score(testes_y, teste_y)\n",
        "print(\"Taxa de acerto %.2f \" % (taxa_de_acerto * 100))"
      ],
      "metadata": {
        "colab": {
          "base_uri": "https://localhost:8080/"
        },
        "id": "_dByQJbSTTMN",
        "outputId": "26b33b9e-c135-4e85-9f69-2e91ee56c832"
      },
      "execution_count": 24,
      "outputs": [
        {
          "output_type": "stream",
          "name": "stdout",
          "text": [
            "Taxa de acerto 66.67 \n"
          ]
        }
      ]
    }
  ]
}